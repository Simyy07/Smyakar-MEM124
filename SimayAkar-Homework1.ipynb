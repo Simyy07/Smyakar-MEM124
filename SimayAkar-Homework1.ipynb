{
 "cells": [
  {
   "cell_type": "code",
   "execution_count": null,
   "metadata": {},
   "outputs": [],
   "source": [
    "#I write this program because of I will find the roots of a quadratic equation.\n",
    "s = int(input(\"Please enter a first coefficient: \"))\n",
    "m = int(input(\"Please enter a second coefficient: \"))\n",
    "y = int(input(\"Please enter a third coefficient: \"))\n",
    "\n",
    "#Form of the second order function is: s*x**2+m*x+y\n",
    "#d1 is the first root\n",
    "#d2 is the second root\n",
    "delta = (m**2)-(4*s*y)\n",
    "d1 = (-m+delta**0.5)/2*s\n",
    "d2 = (-m-delta**0.5)/2*s\n",
    "print(\"d1=\" ,d1)\n",
    "print(\"d2=\" ,d2)"
   ]
  }
 ],
 "metadata": {
  "kernelspec": {
   "display_name": "Python 3",
   "language": "python",
   "name": "python3"
  },
  "language_info": {
   "codemirror_mode": {
    "name": "ipython",
    "version": 3
   },
   "file_extension": ".py",
   "mimetype": "text/x-python",
   "name": "python",
   "nbconvert_exporter": "python",
   "pygments_lexer": "ipython3",
   "version": "3.7.3"
  }
 },
 "nbformat": 4,
 "nbformat_minor": 2
}
