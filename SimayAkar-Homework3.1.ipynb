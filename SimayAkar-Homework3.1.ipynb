{
 "cells": [
  {
   "cell_type": "code",
   "execution_count": null,
   "metadata": {},
   "outputs": [],
   "source": [
    "number=int(input(\"Please, select a number between 1 and 3:\"))\n",
    "if number<=0:\n",
    "    print(\"Please, select a number again!\")\n",
    "if number>3:\n",
    "    print(\"Please, select a number again!\")\n",
    "\n",
    "\n",
    "if number==1:\n",
    "    \n",
    "    print(\"In this section, we will calculated to hypotenuse of the triangle.\")\n",
    "    s=int(input(\"Enter a value for the first edge:\"))\n",
    "    m=int(input(\"Enter a value for the second edge:\"))\n",
    "    y=(s**2+m**2)**(1/2)\n",
    "    print(\"Hypotenuse length of triangle:\",y)\n",
    "\n",
    "\n",
    "elif number==2:\n",
    "  \n",
    "    j=int(input(\"Please, enter a value:\"))\n",
    "    x=1\n",
    "    while x<=j:\n",
    "        print(x)\n",
    "        x=x+1\n",
    "        \n",
    "\n",
    "\n",
    "elif number==3:\n",
    "    \n",
    "    print(\"In this section, in the arithmetic average of the six numbers entered will be taken.\")\n",
    "    w=int(input(\"Please, enter a number:\"))\n",
    "    a=int(input(\"Please, enter a number:\"))\n",
    "    z=int(input(\"Please, enter a number:\"))\n",
    "    c=int(input(\"Please, enter a number:\"))\n",
    "    d=int(input(\"Please, enter a number:\"))\n",
    "    e=int(input(\"Please, enter a number:\"))\n",
    "    r=(w+a+z+c+d+e)/6\n",
    "    print(\"Aritmetic average of these numbers:\",r)"
   ]
  },
  {
   "cell_type": "code",
   "execution_count": null,
   "metadata": {},
   "outputs": [],
   "source": []
  }
 ],
 "metadata": {
  "kernelspec": {
   "display_name": "Python 3",
   "language": "python",
   "name": "python3"
  },
  "language_info": {
   "codemirror_mode": {
    "name": "ipython",
    "version": 3
   },
   "file_extension": ".py",
   "mimetype": "text/x-python",
   "name": "python",
   "nbconvert_exporter": "python",
   "pygments_lexer": "ipython3",
   "version": "3.7.3"
  }
 },
 "nbformat": 4,
 "nbformat_minor": 2
}
